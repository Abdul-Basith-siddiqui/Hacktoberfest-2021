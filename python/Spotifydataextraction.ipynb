{
  "nbformat": 4,
  "nbformat_minor": 0,
  "metadata": {
    "kernelspec": {
      "display_name": "Python 3",
      "language": "python",
      "name": "python3"
    },
    "language_info": {
      "codemirror_mode": {
        "name": "ipython",
        "version": 3
      },
      "file_extension": ".py",
      "mimetype": "text/x-python",
      "name": "python",
      "nbconvert_exporter": "python",
      "pygments_lexer": "ipython3",
      "version": "3.8.3"
    },
    "colab": {
      "name": "spotify_data_extraction-update (3).ipynb",
      "provenance": []
    }
  },
  "cells": [
    {
      "cell_type": "markdown",
      "metadata": {
        "id": "o6luRHjYXtcO"
      },
      "source": [
        "# Data extraction and concatenation"
      ]
    },
    {
      "cell_type": "markdown",
      "metadata": {
        "id": "NjaWsB7aaF8H"
      },
      "source": [
        "## Import libraries\n",
        "Let’s start by calling the necessary libraries that we need. We’ll be using Spotipy, pandas to create a dataframe and save our dataset."
      ]
    },
    {
      "cell_type": "code",
      "metadata": {
        "id": "d902tFg4XlUx"
      },
      "source": [
        "import spotipy\n",
        "from spotipy.oauth2 import SpotifyClientCredentials\n",
        "import pandas as pd\n",
        "import time \n",
        "import numpy as np\n",
        "import pandas as pd\n",
        "import random\n",
        "import warnings\n",
        "warnings.filterwarnings('ignore')\n"
      ],
      "execution_count": null,
      "outputs": []
    },
    {
      "cell_type": "code",
      "metadata": {
        "colab": {
          "base_uri": "https://localhost:8080/"
        },
        "id": "89PbF7cwAwKl",
        "outputId": "430a4586-ca91-40f0-c8f2-59c102ac6fd5"
      },
      "source": [
        "!pip install spotipy"
      ],
      "execution_count": null,
      "outputs": [
        {
          "output_type": "stream",
          "text": [
            "Collecting spotipy\n",
            "  Downloading spotipy-2.18.0-py3-none-any.whl (26 kB)\n",
            "Collecting urllib3>=1.26.0\n",
            "  Downloading urllib3-1.26.6-py2.py3-none-any.whl (138 kB)\n",
            "\u001b[K     |████████████████████████████████| 138 kB 6.6 MB/s \n",
            "\u001b[?25hRequirement already satisfied: six>=1.15.0 in /usr/local/lib/python3.7/dist-packages (from spotipy) (1.15.0)\n",
            "Collecting requests>=2.25.0\n",
            "  Downloading requests-2.26.0-py2.py3-none-any.whl (62 kB)\n",
            "\u001b[K     |████████████████████████████████| 62 kB 725 kB/s \n",
            "\u001b[?25hRequirement already satisfied: certifi>=2017.4.17 in /usr/local/lib/python3.7/dist-packages (from requests>=2.25.0->spotipy) (2021.5.30)\n",
            "Requirement already satisfied: charset-normalizer~=2.0.0 in /usr/local/lib/python3.7/dist-packages (from requests>=2.25.0->spotipy) (2.0.2)\n",
            "Requirement already satisfied: idna<4,>=2.5 in /usr/local/lib/python3.7/dist-packages (from requests>=2.25.0->spotipy) (2.10)\n",
            "Installing collected packages: urllib3, requests, spotipy\n",
            "  Attempting uninstall: urllib3\n",
            "    Found existing installation: urllib3 1.24.3\n",
            "    Uninstalling urllib3-1.24.3:\n",
            "      Successfully uninstalled urllib3-1.24.3\n",
            "  Attempting uninstall: requests\n",
            "    Found existing installation: requests 2.23.0\n",
            "    Uninstalling requests-2.23.0:\n",
            "      Successfully uninstalled requests-2.23.0\n",
            "\u001b[31mERROR: pip's dependency resolver does not currently take into account all the packages that are installed. This behaviour is the source of the following dependency conflicts.\n",
            "google-colab 1.0.0 requires requests~=2.23.0, but you have requests 2.26.0 which is incompatible.\n",
            "datascience 0.10.6 requires folium==0.2.1, but you have folium 0.8.3 which is incompatible.\u001b[0m\n",
            "Successfully installed requests-2.26.0 spotipy-2.18.0 urllib3-1.26.6\n"
          ],
          "name": "stdout"
        }
      ]
    },
    {
      "cell_type": "markdown",
      "metadata": {
        "id": "COtjMlEJYUnF"
      },
      "source": [
        "\n",
        "## Connect to the API\n",
        "we need to authenticate and connect to Spotify’s API. To do so, we need our “Client ID” and “Client Secret”. This will like give us the permission to extract data from the Spotify API.\n",
        "Create client ID and secret by clicking on this link---->[Spotify for Developers](https://developer.spotify.com/)\n",
        "\n",
        "\n"
      ]
    },
    {
      "cell_type": "code",
      "metadata": {
        "id": "kg1OrU3oXlVJ"
      },
      "source": [
        "client_id = '7573e000a6a54da2acaef0edd94a3236'\n",
        "client_secret ='632231db7c1244c88614a03b231691fa'\n",
        "\n",
        "\n",
        "client_credentials_manager = SpotifyClientCredentials(client_id, client_secret)\n",
        "sp = spotipy.Spotify(client_credentials_manager=client_credentials_manager)"
      ],
      "execution_count": null,
      "outputs": []
    },
    {
      "cell_type": "markdown",
      "metadata": {
        "id": "Qyu69Pe6b4vq"
      },
      "source": [
        "## Creating a list of playlists\n",
        "We have taken some playlist uris that include newer songs and put it into a list so that we extract all the songs from that playlist\n",
        "\n"
      ]
    },
    {
      "cell_type": "code",
      "metadata": {
        "id": "elhQsXO8XlVO"
      },
      "source": [
        "playlist_s=[\"7EWgk5GUe4dBBQRCH5J5UG\",\n",
        "\"37i9dQZF1DWXJfnUiYjUKT\",\n",
        "\"6nKgvpnVm71pmTb4kjXRWE\",\n",
        "\"37i9dQZEVXbMDoHDwVN2tF\",\n",
        "\"37i9dQZEVXbMWDif5SCBJq\",\n",
        "\"37i9dQZF1DXd8cOUiye1o2\",\n",
        "\"37i9dQZF1DX4ghkRUdIogy\",\n",
        "\"7m1C1eHUC2kJQL69dGMjaz\"]"
      ],
      "execution_count": null,
      "outputs": []
    },
    {
      "cell_type": "code",
      "metadata": {
        "id": "mrT4BdXkXlVT",
        "colab": {
          "base_uri": "https://localhost:8080/"
        },
        "outputId": "e4d2c239-61a7-434f-8975-c736ec6043e7"
      },
      "source": [
        "playlist_s"
      ],
      "execution_count": null,
      "outputs": [
        {
          "output_type": "execute_result",
          "data": {
            "text/plain": [
              "['7EWgk5GUe4dBBQRCH5J5UG',\n",
              " '37i9dQZF1DWXJfnUiYjUKT',\n",
              " '6nKgvpnVm71pmTb4kjXRWE',\n",
              " '37i9dQZEVXbMDoHDwVN2tF',\n",
              " '37i9dQZEVXbMWDif5SCBJq',\n",
              " '37i9dQZF1DXd8cOUiye1o2',\n",
              " '37i9dQZF1DX4ghkRUdIogy',\n",
              " '7m1C1eHUC2kJQL69dGMjaz']"
            ]
          },
          "metadata": {
            "tags": []
          },
          "execution_count": 11
        }
      ]
    },
    {
      "cell_type": "code",
      "metadata": {
        "id": "faUNJ5uqXlVc",
        "colab": {
          "base_uri": "https://localhost:8080/"
        },
        "outputId": "a5c12136-7f2c-474e-f545-95d75d159b4a"
      },
      "source": [
        "len(playlist_s)"
      ],
      "execution_count": null,
      "outputs": [
        {
          "output_type": "execute_result",
          "data": {
            "text/plain": [
              "8"
            ]
          },
          "metadata": {
            "tags": []
          },
          "execution_count": 12
        }
      ]
    },
    {
      "cell_type": "markdown",
      "metadata": {
        "id": "7VQVAbGRkGvJ"
      },
      "source": [
        "# Getting URIs of songs \n",
        "With their respective URIs of the playlists we can get the URIs of their songs."
      ]
    },
    {
      "cell_type": "code",
      "metadata": {
        "id": "T3oMs7lYXlVf",
        "colab": {
          "base_uri": "https://localhost:8080/"
        },
        "outputId": "51262a51-7d67-4ed8-c29e-e2c59b763ea6"
      },
      "source": [
        "\n",
        "\n",
        "ids = []\n",
        "def getTrackIDs(playlist_id):\n",
        "\n",
        "    playlist = sp.playlist(playlist_id)\n",
        "    for item in playlist['tracks']['items']:\n",
        "        track = item['track']\n",
        "        if track is not None:\n",
        "            ids.append(track['id'])\n",
        "    return ids\n",
        "for i in range(len(playlist_s)):  \n",
        "\n",
        "    ids = getTrackIDs( playlist_s[i])\n",
        "\n",
        "ids"
      ],
      "execution_count": null,
      "outputs": [
        {
          "output_type": "execute_result",
          "data": {
            "text/plain": [
              "['4ZtFanR9U6ndgddUvNcjcG',\n",
              " '67BtfxlNbhBmCDR2L2l8qd',\n",
              " '6ePQanKJhe0GcKOqwj6lOU',\n",
              " '748mdHapucXQri7IAO8yFK',\n",
              " '3Wrjm47oTz2sjIgck11l5e',\n",
              " '07VXm9egYqEBsGGyW7UJ1M',\n",
              " '6PQ88X9TkUIAUIZJHW2upE',\n",
              " '4iJyoBOLtHqaGxP12qzhQI',\n",
              " '5b6R8UAs237ex9Sf6sjWJ8',\n",
              " '3VqeTFIvhxu3DIe4eZVzGq',\n",
              " '3bFqIu003LVoDOrgU8d8Nf',\n",
              " '5nujrmhLynf4yMoMtj8AQF',\n",
              " '6yAPujdpIuZQoYcznDWkL3',\n",
              " '776AftMmFFAWUIEAb3lHhw',\n",
              " '2UAahuuQHqKNzKXw0dwBmj',\n",
              " '3VT8hOC5vuDXBsHrR53WFh',\n",
              " '0XCG95KVcSvaXDhnSXEdl1',\n",
              " '7MAibcTli4IisCtbHKrGMh',\n",
              " '6u4U9a2pe7WiZ4lgmQxDcr',\n",
              " '7Bk0uXKk1uPT0XuQbpFzvs',\n",
              " '2NEkewHrOKlwpZltaQVhUO',\n",
              " '2rCbl9naJYhaxjLsfx88uM',\n",
              " '71gaPu2t7HxnvjOvTqG9VR',\n",
              " '43PGPuHIlVOc04jrZVh9L6',\n",
              " '4HjEmVnehfcBMJSZUW0MyX',\n",
              " '7BoobGhD4x5K96Me0hqC8Q',\n",
              " '0OEqHUcc8agfohVYPa7Zpw',\n",
              " '37BZB0z9T8Xu7U3e65qxFy',\n",
              " '10ohPj2aMRkr8bptqQpTG4',\n",
              " '2dNhNlpZAtV4lwAFW45LIv',\n",
              " '38pHFUMjjiWepTycT6jLz3',\n",
              " '0VjIjW4GlUZAMYd2vXMi3b',\n",
              " '7MJVVlnSSNM4jbsSRM46UT',\n",
              " '4saklk6nie3yiGePpBwUoc',\n",
              " '6uvMKqNlrSvcC4NaKnrwjZ',\n",
              " '2n6hMOvSRk8Dlsj8Pt5UIj',\n",
              " '4cG7HUWYHBV6R6tHn1gxrl',\n",
              " '0R6cTNa9Z6zid3b2l2d3bK',\n",
              " '3FAJ6O0NOHQV8Mc5Ri6ENp',\n",
              " '1dd1pRAWSHgi2BEORoF4aW',\n",
              " '6tDDoYIxWvMLTdKpjFkc1B',\n",
              " '4MzXwWMhyBbmu6hOcLVD49',\n",
              " '6UdTO8jIW2Ec2VM1puieiy',\n",
              " '1D3z6HTiQsNmZxjl7F7eoG',\n",
              " '5qNh5WtzMbfpSj2jLlBkoD',\n",
              " '3zYdz7HipmosVYJoOvj5ZX',\n",
              " '6f3Slt0GbA2bPZlz0aIFXN',\n",
              " '1mrASUqqfEXfMymZSBexNU',\n",
              " '1J14CdDAvBTE1AJYUOwl6C',\n",
              " '2ryQF0el2mlIwiSutw8DVp',\n",
              " '2MnLkFqY9Rpg9s3Zv6ZJdK',\n",
              " '7dds0BqCZHDFwRmO9i7rhz',\n",
              " '2FSGUA0gFgGeQdprjtGM2M',\n",
              " '2TSd0AZliNdGO1m2vH94g9',\n",
              " '4fSIb4hdOQ151TILNsSEaF',\n",
              " '4lF8MTZn0OcPW0Q4QW4OMb',\n",
              " '5QO79kh1waicV47BqGRL3g',\n",
              " '3SmoA2yQNkDqrZIK4MOg4J',\n",
              " '16O9DosvQxbse5cXZbQreI',\n",
              " '2nafpkVBD4Q1BnvDFUw1OW',\n",
              " '79FZuuNT1lFhESdwJYd3j3',\n",
              " '114QO4cnuj4K8Rr1FP6kew',\n",
              " '5ErTF9twryM0LvDFxV7bzo',\n",
              " '2IhGtu0KGK88ye3pKsx7Db',\n",
              " '1sY1BkVPASRazjTSKwtvcY',\n",
              " '4bWcCNHts0mxx6EmHxRZ1b',\n",
              " '2CDIkuvYog2AIgIl4yqja3',\n",
              " '1bAo8OalaLvhtbMVXKtArS',\n",
              " '1V3uNGTeX7s56kH3lO3TxC',\n",
              " '2rsC9GeZUgsgsyp0VPQoGx',\n",
              " '3W1bB5Xtp1qLtVZKpdejI3',\n",
              " '6m5y1V0bEjRE5CMOaUaFpk',\n",
              " '6jd3zrRSIX4orLbxSlcZrE',\n",
              " '51gxawa7j05YgInITgVVuB',\n",
              " '2awMBdfBN3mPKxQr7srKxe',\n",
              " '7kbCRRKa6kjLEtyQfJUwsE',\n",
              " '1KaYHxkX2pPCqHHEHLxdom',\n",
              " '0gxtETl36vzP0qGJV3QpmN',\n",
              " '73hVeL4Xvh9oLXtgSA3sKc',\n",
              " '0WldiXMPJ7Zvh6ZFZ9FdJ0',\n",
              " '5WwXy1xtQtweT7gn1OuzVB',\n",
              " '1X268NpsgVwQd99PtDF6fW',\n",
              " '1cj7KAZVKg9HZB2meVxjOe',\n",
              " '1B8JUBaGAl8gkanqBalIiF',\n",
              " '5IyUa2ACM4YkXwfYuFdTPE',\n",
              " '5bOj7qzOvn1Ep2NKch2cii',\n",
              " '4ULbntsCGYoDEijhkHFMxd',\n",
              " '5fQM4EAGbmdRdEIXCaPcZl',\n",
              " '54PwcNX8p30P86Ivq8n0vf',\n",
              " '0ozYseodh0nAQTgGjUsetj',\n",
              " '1NYUV7ujkP62fzqChfQbTX',\n",
              " '08kvF0tedAR5uJRIkeMuQ9',\n",
              " '1pQ0o1jEtp3Y4vi1pOK5xy',\n",
              " '3UmycGYxAjkx4J9XHWM7Hi',\n",
              " '2rnicJAmNggJjKdURgsmSs',\n",
              " '7DE57aK2zg5gFmeRPxWKqc',\n",
              " '67P4WyDHCb2qhZcIUxhEtW',\n",
              " '6E14SIHDOSBQhdg9cRtrRz',\n",
              " '5fxUFpldjRJjw1ARRy1Xp8',\n",
              " '2c5DA8wGWH5NyKOGCAdlKJ',\n",
              " '1058fW9H3fZA6QjYCdOBad',\n",
              " '1JXBNvlDEl2epKSJ9EOgKX',\n",
              " '27NovPIUIRrOZoCHxABJwK',\n",
              " '0MWiSBKm8Avs8iDIxcertp',\n",
              " '3zQpGaH50HeMjxurMZVF6q',\n",
              " '5laAdwuT8EEvkIXrmrhRSB',\n",
              " '2CIYemjFXdmCWpJnfbtrD6',\n",
              " '0WLVSnKqQBK4UPom1TESHK',\n",
              " '2RkZZh5XQ4y3sG8gCu96Tz',\n",
              " '5T0ahhwM0f4YYExfIGEHVw',\n",
              " '7zRXkZJQJYuSIqqv7PaPvb',\n",
              " '6Rrehwtm21J7E6r5b2kEHq',\n",
              " '5vUZMotVhkVcizIP0qrgr8',\n",
              " '5uKF2xt6rVWjgBOS7uUpif',\n",
              " '3zs87EV3EZSh2UpiXxT52Y',\n",
              " '3yaYgjEFkRw3PVjW9mV1TO',\n",
              " '0JhOWLV0il0wcoyOr2kaCx',\n",
              " '17NlAopmbL9vdVKR8nSfbz',\n",
              " '7lOlKhTXmv4sMxyhjsWwn8',\n",
              " '1gsYCXkisSnnjBb3qwYZoc',\n",
              " '2ZJMzuQIlQ5AC5Id1SFkan',\n",
              " '681ZlxQVB8XBPRZD1Wk4oi',\n",
              " '6P2Y4KnF2x8uwZV2cZWA8t',\n",
              " '1uQiAP6sqz81780Rp1JOO8',\n",
              " '3Q872ol7VFg088SkbxSuqO',\n",
              " '0UMFm4ndFr3PH5VsVYnCNG',\n",
              " '6bIXN4xCot0hiEfzl2xFZR',\n",
              " '5uyw6qVn71nKSBVyBl3Ytv',\n",
              " '5f3MXmTmstozFg0BH1yPUk',\n",
              " '39ctmPVTtAMKeVJhMq5dS5',\n",
              " '3BjwSq6phb60SOdTZw5pZY',\n",
              " '2pxTrFJzMSqo6OmHFeiwJ6',\n",
              " '6HeKrqik6GxcbdKsk7FRnt',\n",
              " '0RpCZ17BXI0x8b14UFrgDQ',\n",
              " '1i4PDSBM06tdv4bnHmZhot',\n",
              " '4PHZkpHmsig3EihQneGOMt',\n",
              " '5fwabfmJtYmNbcNd2ISl3x',\n",
              " '3sCIhVn73syDMgOtWzyeYm',\n",
              " '0zn5Sa8fRjpUo7XXUaNRTB',\n",
              " '2zC1lEtZQ8nByZXkjTpjMb',\n",
              " '3Ho13bRS28xEvGvgW4LOFM',\n",
              " '1uMHCAyGmHqyygoNRuo7MV',\n",
              " '0lg3Sw4BJwpjusx6m0YclP',\n",
              " '17hUeO3yozyGyXFzpEIX6D',\n",
              " '5VZvuKUJ3ulfBwfKhuVi1t',\n",
              " '4yDN3raV23ADESRpIoW8AO',\n",
              " '05J50VX6xpsMYAqOb0atmk',\n",
              " '1JretlXUtNLNoJrkgtCnWb',\n",
              " '6uTID2glulLOXYhcwMETS1',\n",
              " '782u4SBQLJdXc4rQ6J7Uqi',\n",
              " '5P33O56sPwgfqfyEo0iFN4',\n",
              " '0oWjcsqU11f12QCUSIHiI5',\n",
              " '3qcB1VM236LtPTblpXXMl7',\n",
              " '4e72LGraX8sW5iztJvS5fo',\n",
              " '1iprDFClQB6LyLCtihRwtH',\n",
              " '6NsU8OFGg51u3nMKmb7Old',\n",
              " '2Q0OFXAvV0OvnaWB1sp1rK',\n",
              " '1ww0qfkCgxArPyjqDFtBjQ',\n",
              " '0dlPbXcq850wTEyEtkTLMG',\n",
              " '42Q71LGgYI4eBdebWn5m6D',\n",
              " '7pEjRtUJU9DYNJZanj7mPW',\n",
              " '7jZdaKyarANolzHVosOglg',\n",
              " '0WNzizshOaIcHbYET4vJOK',\n",
              " '0R1vTJdJkyoAGaScgh5HuQ',\n",
              " '4UkpYAxwW1ccMWAhNiyeaW',\n",
              " '4Yu599Am0GHlAMsnq158GD',\n",
              " '6ZamNPbk8US2Xb7fcgLt1V',\n",
              " '0dN3cttUifpkm1Oja79zJr',\n",
              " '4MDYIbU6I29Gjiu7JATTIJ',\n",
              " '7wYCzc3UhMJi2lz8flyUxB',\n",
              " '3jPd7hIM0feCje8ZbVu6en',\n",
              " '6phFpARTp2T9rcNR3uRXoe',\n",
              " '0uLmfXydlSdAJusUjZ02oj',\n",
              " '4wOyrbNG5eEv5ZF5oVqHtX',\n",
              " '7omXnyf08srlsovSl3VfQT',\n",
              " '1IyD2Apaj1qmcIxzSjeTHl',\n",
              " '2q7HEFh5Bec9FX7O6RGRQ4',\n",
              " '0F1cmOZH5gdNIDJRfl5Nsi',\n",
              " '3a1FmKNt5614MLAh7KeWTb',\n",
              " '2rFPYcUV0lUORTDvGymr5n',\n",
              " '5cHIdmTpMnYGBwbyGEuOqA',\n",
              " '1aJwxjWEaP7SOWZ3ejaKej',\n",
              " '1aFP0G0GHQAAH9gfC95wT1',\n",
              " '4zvRdQWreRSHm8siX9cvzO',\n",
              " '3VUcxoemCkZbhISKT3XNZL',\n",
              " '0MTxfrDnNX0cIQkWhCm58d',\n",
              " '3oTiIGIgmjdavBHdsUrY1M',\n",
              " '4wYmgjrDbHprid8pODwPq4',\n",
              " '1DkbynNilJKbe7V57omrK7',\n",
              " '2upubCYkDvATo6ZZwHqrp9',\n",
              " '4c8SqsOsalairLRowCd3nw',\n",
              " '6OKflEmwo66otVCLryCSqt',\n",
              " '5Nr4ad67beU2N5ObwjZbx0',\n",
              " '6yrfqha7A60C7cacaN4MKm',\n",
              " '7aRYhqmgdFdrHODXud8OKY',\n",
              " '2c7LWtI9d1lGmQDAJa6NaL',\n",
              " '6PQ88X9TkUIAUIZJHW2upE',\n",
              " '7zx1i0jGcFwMBurajgKlO7',\n",
              " '5K6Ssv4Z3zRvxt0P6EKUAP',\n",
              " '2mkhpYJKRCGqFZtzMlCXvI',\n",
              " '4laAKIq9ZxBCwf99rauPYb',\n",
              " '1olCzMxaeiQKNO64ssWVGr',\n",
              " '0vR2rIVORmgeKiGIgNT0fV',\n",
              " '4qu63nuBpdn0qHUHuObEj1',\n",
              " '5ri4zqtWhG07hIuNNDWP76',\n",
              " '6nV2dFZXpv1JlqDWBeTXRl',\n",
              " '4NjTrZ2IQeWnIbzyY2SOfz',\n",
              " '5zqObw7wjBgL9TDiAymxPn',\n",
              " '6PERP62TejQjgHu81OHxgM',\n",
              " '3Wrjm47oTz2sjIgck11l5e',\n",
              " '0939D7aT18uBDS2MTjWzct',\n",
              " '4pt5fDVTg5GhEvEtlz9dKk',\n",
              " '73QyyUMMvtNELmULI4FOsp',\n",
              " '5HCyWlXZPP0y6Gqq8TgA20',\n",
              " '5QO79kh1waicV47BqGRL3g',\n",
              " '5UZRiz52aaoW64Sp88qVQc',\n",
              " '3TxbWIGn6rDDUAnIjWr9FL',\n",
              " '0LThjFY2iTtNdd4wviwVV2',\n",
              " '53fP1JzpjywHdJKx1flKCA',\n",
              " '2sX7lJXsOYGP1Us6CqM9t1',\n",
              " '1V7bZ9gEIwFQpm8yGxRHNA',\n",
              " '1Dp7ASSZVVOPJ85VdLpjOX',\n",
              " '0AnCfsyN0FGqehGdJYggaN',\n",
              " '7FS85u1tEFvetplHAsTKO6',\n",
              " '0b18g3G5spr4ZCkz7Y6Q0Q',\n",
              " '5CSKbHjpqborGnlzagyaDo',\n",
              " '4LmN3eU1R1vVEdKuDELpGk',\n",
              " '0odFiE8hCSUwocstrqPvVO',\n",
              " '1LIpmpNV0DN3JGkO8jpnyL',\n",
              " '1gX4wETtMGvOB7u1proVfj',\n",
              " '4cG7HUWYHBV6R6tHn1gxrl',\n",
              " '1IBA1Q8YKbweTfy7KuqCNf',\n",
              " '0siYMEsGrzzzlWLXK5zJfS',\n",
              " '4FEcEwbE2vsqhxbTPtiNTL',\n",
              " '748mdHapucXQri7IAO8yFK',\n",
              " '6Tio0ZoDeSQnI7EBAqWer2',\n",
              " '3Wrjm47oTz2sjIgck11l5e',\n",
              " '5PjdY0CKGZdEuoNab3yDmX',\n",
              " '4ZtFanR9U6ndgddUvNcjcG',\n",
              " '6PQ88X9TkUIAUIZJHW2upE',\n",
              " '27NovPIUIRrOZoCHxABJwK',\n",
              " '67BtfxlNbhBmCDR2L2l8qd',\n",
              " '3DarAbFujv6eYNliUTyqtz',\n",
              " '5RwV8BvLfX5injfqYodke9',\n",
              " '2JPLbjOn0wPCngEot2STUS',\n",
              " '4pt5fDVTg5GhEvEtlz9dKk',\n",
              " '6hf0RpxTbOprT5nnwzkk8e',\n",
              " '5nujrmhLynf4yMoMtj8AQF',\n",
              " '5eXBXreN3d1zdj6Sa8dS0u',\n",
              " '4iJyoBOLtHqaGxP12qzhQI',\n",
              " '05bfbizlM5AX6Mf1RRyMho',\n",
              " '2bgTY4UwhfBYhGT4HUYStN',\n",
              " '5CZ40GBx1sQ9agT82CLQCT',\n",
              " '37BZB0z9T8Xu7U3e65qxFy',\n",
              " '6HU7h9RYOaPRFeh0R3UeAr',\n",
              " '0G2zPzWqVjR68iNPmx2TBe',\n",
              " '5lAnYvAIkSDNXqfo7DyFUm',\n",
              " '4cG7HUWYHBV6R6tHn1gxrl',\n",
              " '3Vi5XqYrmQgOYBajMWSvCi',\n",
              " '0VjIjW4GlUZAMYd2vXMi3b',\n",
              " '5wANPM4fQCJwkGd4rN57mH',\n",
              " '02MWAaffLxlfxAUY7c5dvx',\n",
              " '40uMIn2zJLAQhNXghRjBed',\n",
              " '0BGwAKW4u8kWOhWFflZxfl',\n",
              " '2tGvwE8GcFKwNdAXMnlbfl',\n",
              " '7MAibcTli4IisCtbHKrGMh',\n",
              " '5fwSHlTEWpluwOM0Sxnh5k',\n",
              " '2rCbl9naJYhaxjLsfx88uM',\n",
              " '2kJRlOyrxsy7Ot3c5TZ8Q6',\n",
              " '5JCoSi02qi3jJeHdZXMmR8',\n",
              " '4MzXwWMhyBbmu6hOcLVD49',\n",
              " '6UelLqGlWMcVH1E5c4H7lY',\n",
              " '1WedZeiezCmCEOzLwhx0hV',\n",
              " '0cOa970mzTWAxKtltpkpLc',\n",
              " '1JXBNvlDEl2epKSJ9EOgKX',\n",
              " '1058fW9H3fZA6QjYCdOBad',\n",
              " '27RSJHEA99Y0Vsow7nA37A',\n",
              " '0k4d5YPDr1r7FX77VdqWez',\n",
              " '6f3Slt0GbA2bPZlz0aIFXN',\n",
              " '18vXApRmJSgQ6wG2ll9AOg',\n",
              " '4saklk6nie3yiGePpBwUoc',\n",
              " '43qcs9NpJhDxtG91zxFkj7',\n",
              " '0MMyJUC3WNnFS1lit5pTjk',\n",
              " '03LfOYi0icz4souspZVVhq',\n",
              " '5K6Ssv4Z3zRvxt0P6EKUAP',\n",
              " '0b18g3G5spr4ZCkz7Y6Q0Q',\n",
              " '0LThjFY2iTtNdd4wviwVV2',\n",
              " '2bgTY4UwhfBYhGT4HUYStN',\n",
              " '3Wrjm47oTz2sjIgck11l5e',\n",
              " '5W7DOVGQLTigu09afW7QMT',\n",
              " '47Rqh5ZSamtIOFi7G6VgFJ',\n",
              " '67BtfxlNbhBmCDR2L2l8qd',\n",
              " '0yCWDaAgOtg6TKlNCg9rwA',\n",
              " '576v1keY82NOPITMNu0wD2',\n",
              " '2ufLEVbzvEcJ3subW8jBUp',\n",
              " '5HCyWlXZPP0y6Gqq8TgA20',\n",
              " '58f4twRnbZOOVUhMUpplJ4',\n",
              " '5urYiIXu1ZhfMAOsp7WDTc',\n",
              " '4saklk6nie3yiGePpBwUoc',\n",
              " '2FCXQHugkoHE1K3tiDu8pu',\n",
              " '4ZtFanR9U6ndgddUvNcjcG',\n",
              " '5nujrmhLynf4yMoMtj8AQF',\n",
              " '5nsET7aVWXu017lsQjRFCV',\n",
              " '39LLxExYz6ewLAcYrzQQyP',\n",
              " '6PQ88X9TkUIAUIZJHW2upE',\n",
              " '3UhmuWcFaLS3AO3kI9ynQ2',\n",
              " '1smFN2CLqGROu0J0UyvDfL',\n",
              " '3D0pmiK3zyF9PudyJ8mkor',\n",
              " '4iJyoBOLtHqaGxP12qzhQI',\n",
              " '6v3KW9xbzN5yKLt9YKDYA2',\n",
              " '0BGwAKW4u8kWOhWFflZxfl',\n",
              " '3XMYdcclpeP0LBmVLr6L8p',\n",
              " '3DarAbFujv6eYNliUTyqtz',\n",
              " '0qOnSQQF0yzuPWsXrQ9paz',\n",
              " '1J14CdDAvBTE1AJYUOwl6C',\n",
              " '2zQE8TE5BQDJA11ggnope9',\n",
              " '6UelLqGlWMcVH1E5c4H7lY',\n",
              " '2Fv2injs4qAm8mJBGaxVKU',\n",
              " '2PEo8JQ48mfEv8a2HLqDvt',\n",
              " '5O932cZmzOZGOGZz9RHx20',\n",
              " '3sFlG5sYt712TtjvWM8Ocb',\n",
              " '0pqnGHJpmpxLKifKRmU6WP',\n",
              " '6IaHIJYxIG8xbosaRr25AC',\n",
              " '249gnXrbfmV8NG6jTEMSwD',\n",
              " '4HV0XOs2F7RR8fFhYiop0b',\n",
              " '1y1rQTkWmrZdJmjwuK07GC',\n",
              " '7BoobGhD4x5K96Me0hqC8Q',\n",
              " '4OQFlJOSID2AzpmOcuDlJl',\n",
              " '5uuVGnkZEFHBz8unViC3iA',\n",
              " '2qxmye6gAegTMjLKEBoR3d',\n",
              " '7mNZUnDWUDidWBFaUpVtOC',\n",
              " '3ggtU1ZOKO8ZNiqPNyXGcm',\n",
              " '0u2P5u6lvoDfwTYjAADbn4',\n",
              " '2MJz8BxxMsERULatmBikDH',\n",
              " '4jPy3l0RUwlUI9T5XHBW2m',\n",
              " '0VjIjW4GlUZAMYd2vXMi3b',\n",
              " '1R6A1G9lbmXnTlKEmpeLUt',\n",
              " '46H20BKWUVRha205SnFRxh',\n",
              " '4RSqbZJktCe4adO1INwRuc',\n",
              " '0AB2uzlJuJsbHVVfvMm9gc',\n",
              " '60FSUBoIQqw5dqrivd6eFc',\n",
              " '6errL6xUP47OwwrevL8EKX',\n",
              " '1Vxx4YLea82i6hbQz0JHXa',\n",
              " '4SLWJ2ff0RHSJOSp2MPIHH',\n",
              " '0IQRRlpomabOlzy39mcmmq',\n",
              " '5OUWK9ea7HjQIk5V6tUt7k',\n",
              " '1ctBdNrXvTiudTAkNmINZK',\n",
              " '3KeMulXbLDJBQdY5PZbGEh',\n",
              " '5FPLlfeL8wECT02lWH83Ad',\n",
              " '3FznzQ00Ay6z2mwSWSaSTe',\n",
              " '7CjqU8oOifUAvQFBfTfpCQ',\n",
              " '3jytS9p5EBP1Qny9Bgv39Z',\n",
              " '0KE5ZphlORxtLEi8mRNn3L',\n",
              " '2lGdu4SuEan8pC0WoCTzjP',\n",
              " '4WMvpOlris4yndocyexZIf',\n",
              " '7HDH0I1lR9tVtGSAR2MfkE',\n",
              " '318DwaBJXLdyZaX2TAf5ix',\n",
              " '1iABqdYHdWLHBq0tVYDIc7',\n",
              " '4iAmBx8JludQP0JX0uRZ8C',\n",
              " '2BRPEcwdgMvkYlDdxM6U22',\n",
              " '5C10OXEl9FAz4hcktww0le',\n",
              " '0WUqavV3bQboxVrlPNDj5r',\n",
              " '7ddulzrE5iTk4skon6QHEq',\n",
              " '2vJIg9uPO9lulhp6OfXIzT',\n",
              " '0Ji90wjSZO620fci7Gx38Q',\n",
              " '4aRyBVBXxWeLcerYlLDWZL',\n",
              " '3Icnk4l8TPaLVRdp0raK16',\n",
              " '1lbxGipXJ3AR9iw28RhDRp',\n",
              " '7lD7QLuX52ry6HmYKXVYFw',\n",
              " '576v1keY82NOPITMNu0wD2',\n",
              " '0Gja8zsgCA3QqCCdt33GL5',\n",
              " '4KpGW1u8a34WPU2a5rdbpq',\n",
              " '6onrKush01FO9MfXfltHWW',\n",
              " '1o6at2HDrU76PDEE12gYwp',\n",
              " '4Kh9KlKTMjQO56YYeVkPli',\n",
              " '7d5ufSYehroRIgCXxJvcTM',\n",
              " '4ZUNLOvAQpMInaKcpm63f2',\n",
              " '1WJ52TV3RffVR0MVMTmXJK',\n",
              " '1Wn4zfB2f3E2fM9fEFvzcH',\n",
              " '48VKLG3tubhJd3zA3FvBvr',\n",
              " '60Cv59grb8OTWyoyrIg2EH',\n",
              " '1zmNfJiRKcGeE9kF7nAEsE',\n",
              " '1LFPoKlFMvOmIeX8MTryvl',\n",
              " '3xP7B3DnUkyU0DBvmRpM9Y',\n",
              " '2xZfZR98WKWRGzdEY1t0Rk',\n",
              " '4PPSU0qORvgbKtnpVuaD2x',\n",
              " '47Rqh5ZSamtIOFi7G6VgFJ',\n",
              " '2yvYQblqDZkG0gfkt8sDUm',\n",
              " '4SL1uOXudCO691k2IlCwOz',\n",
              " '5JimyXMAIMfo48hIt33azz',\n",
              " '1E8cHTTcDghdVRBUumQZhs',\n",
              " '6O5UN70EVYFmQ2cgmDLdcM',\n",
              " '5mZgWVEb2KN9aYXOEr5ZFI',\n",
              " '3sFlG5sYt712TtjvWM8Ocb',\n",
              " '0srsbEtjwgN0F4LLuv20SW',\n",
              " '4Jgf6LeKeJe6fkLHRV1uu1',\n",
              " '6Vz84ctm5B6WUQEq7lm6Vn',\n",
              " '2B5hlXEiWAqZ9U6GwuyBSk',\n",
              " '0KExXujhfCj6R0QOlyCHx5',\n",
              " '0y5mjFLVjvySl0qproBCAn',\n",
              " '4wIPUdVDOAXVBm1Y6UcLGN',\n",
              " '1CZLaRk2TZ2GISaXZ3QTRI',\n",
              " '2lBNrf6a25S2lNdiKgUxl2',\n",
              " '11KXv9ONlSsFCLe2crzvMi',\n",
              " '41VMEUgzghN0quMl6Wh3BW',\n",
              " '7Hi1FAuRxHaG9BFJNi2awE',\n",
              " '2gR1xw8Kc90xyin03lEzUW',\n",
              " '1dRzGcS2VzjlaB5PscDNlx',\n",
              " '7rjFYm6THGNETjg3vb1Tof',\n",
              " '3WAwwpScnhX20HEo438LdT',\n",
              " '7JyS1WdpePNab0kf5HOvWZ',\n",
              " '6ru8nSsRmuSRaZ1QJ9crfx',\n",
              " '26dEvQuPwM3T61PKzoJiht',\n",
              " '1XfPFz0jD2m8uwqphe0lTi',\n",
              " '3Rvdqwgbr3rryZkNRrItt3',\n",
              " '0Q4oZdUT0ddDMeN9snzgvS',\n",
              " '7Gzz3zJuYpduXIuhooHlVm',\n",
              " '4OQFlJOSID2AzpmOcuDlJl',\n",
              " '1mp0zS57ydCqZp9Tm4VvIy',\n",
              " '2ZuMkKQXmmxAcsSFDalcPp',\n",
              " '1p6uGtrUHohrW5uRrAIrtj',\n",
              " '35Hv254Qn97GXNqWFIrYWP',\n",
              " '2PEo8JQ48mfEv8a2HLqDvt',\n",
              " '2ufLEVbzvEcJ3subW8jBUp',\n",
              " '5nsET7aVWXu017lsQjRFCV',\n",
              " '27NovPIUIRrOZoCHxABJwK',\n",
              " '1058fW9H3fZA6QjYCdOBad',\n",
              " '6HeKrqik6GxcbdKsk7FRnt',\n",
              " '3zs87EV3EZSh2UpiXxT52Y',\n",
              " '7zRXkZJQJYuSIqqv7PaPvb',\n",
              " '2CIYemjFXdmCWpJnfbtrD6',\n",
              " '6OKflEmwo66otVCLryCSqt',\n",
              " '1JXBNvlDEl2epKSJ9EOgKX',\n",
              " '0WLVSnKqQBK4UPom1TESHK',\n",
              " '0MWiSBKm8Avs8iDIxcertp',\n",
              " '6P2Y4KnF2x8uwZV2cZWA8t',\n",
              " '3zQpGaH50HeMjxurMZVF6q',\n",
              " '681ZlxQVB8XBPRZD1Wk4oi',\n",
              " '1gsYCXkisSnnjBb3qwYZoc',\n",
              " '4h4c2nt7wTFLn0OYVDWOHC',\n",
              " '0JhOWLV0il0wcoyOr2kaCx',\n",
              " '48lL7tsUr8tAlHg5Rpoxn6',\n",
              " '2q7HEFh5Bec9FX7O6RGRQ4',\n",
              " '2YV1jGSaEmCwbMwqifDRFI',\n",
              " '1EGRP5EVD8emJ51GviCuY0',\n",
              " '5uKF2xt6rVWjgBOS7uUpif',\n",
              " '4zvRdQWreRSHm8siX9cvzO',\n",
              " '4YEYLs1ybLyf3U5ZkzVBqD',\n",
              " '2RkZZh5XQ4y3sG8gCu96Tz',\n",
              " '2I0EV5B4RgDQPcSuDGzz2N',\n",
              " '1IyD2Apaj1qmcIxzSjeTHl',\n",
              " '5zq85bH7aHwAwYKpPzwyH5',\n",
              " '5T0ahhwM0f4YYExfIGEHVw',\n",
              " '0pdvvP1vP8zWRHeBCHdFbG',\n",
              " '3Q872ol7VFg088SkbxSuqO',\n",
              " '4DqXhYryASlQ2W6IAZF8Un',\n",
              " '0X9YxNkxWQ5ThdY5zHHhGu',\n",
              " '1Jwtr4ilvNY8hyGVfyLJgx',\n",
              " '4Kc1nMxyLCWtx3BganIsQs',\n",
              " '4wOyrbNG5eEv5ZF5oVqHtX',\n",
              " '7omXnyf08srlsovSl3VfQT',\n",
              " '3VUcxoemCkZbhISKT3XNZL',\n",
              " '3FfvdYHlPaUJUBW25uNcq3',\n",
              " '4QS9iWecf9Ks8HBVs34hm1',\n",
              " '0rOjT0BSexJgFLMSlqywyQ',\n",
              " '0RpCZ17BXI0x8b14UFrgDQ',\n",
              " '2ZJMzuQIlQ5AC5Id1SFkan',\n",
              " '59mmKoHbCWc10mlWwwTYxn',\n",
              " '6kvxoUQy6cKZvc8DFc4Smb',\n",
              " '17NlAopmbL9vdVKR8nSfbz',\n",
              " '3U8n8S6i2bUyF6cHzc8RMT',\n",
              " '3fo2i0WXcxkaTiY0BN3FcW',\n",
              " '1aFP0G0GHQAAH9gfC95wT1',\n",
              " '1JretlXUtNLNoJrkgtCnWb',\n",
              " '5cHIdmTpMnYGBwbyGEuOqA',\n",
              " '5vUZMotVhkVcizIP0qrgr8',\n",
              " '0WNzizshOaIcHbYET4vJOK',\n",
              " '6phFpARTp2T9rcNR3uRXoe',\n",
              " '2rFPYcUV0lUORTDvGymr5n',\n",
              " '23uK4NXI8s7Qgo6rXwlBSP',\n",
              " '4c8SqsOsalairLRowCd3nw',\n",
              " '79ims6hRb0LOcvVBlrdXkA',\n",
              " '1dPjb8QShhCeyozQ09ZMoc',\n",
              " '4UkpYAxwW1ccMWAhNiyeaW',\n",
              " '33pJb2pWrpHxMuBvz78ZdG',\n",
              " '1DkbynNilJKbe7V57omrK7',\n",
              " '5paNWiP7GfNZL18qqy7tOs',\n",
              " '4CBXw0eNeARH0E9TpRJziM',\n",
              " '4o7yTUS7EFgYOcFDyN8U27',\n",
              " '28pdEYcP6nRdZ8RtnpglrP',\n",
              " '7qCHqtiSiX3T09ErW718yQ',\n",
              " '3gTohtPsDFQ3o5BPfWpS6C',\n",
              " '2sZ1xYLwUSX83txCQA1N8e',\n",
              " '0MTxfrDnNX0cIQkWhCm58d',\n",
              " '6bIXN4xCot0hiEfzl2xFZR',\n",
              " '4Oyn0MbYODfo5SaR8IiVRa',\n",
              " '4PXtJD9VeJXB9zflewDoVo',\n",
              " '6H6NYmcW2ZvpIu33vFQOpp',\n",
              " '3dLBMlgIqw5VY2FKZHXPTJ',\n",
              " '0ykV637tc8VShvto8Eeduv',\n",
              " '5uyw6qVn71nKSBVyBl3Ytv',\n",
              " '2cEUOtY0qN5ZcXaK6fcisd',\n",
              " '0iYmVxzukMkvgou1BuTUgO',\n",
              " '0S7eavOH2yPKEotR7SYpob',\n",
              " '2r12MtRWVSKkRywwuHGDkU',\n",
              " '6xMb0wjwc0jaW4jUEBFCJp',\n",
              " '6igNeRmIK5UfzVicL3Juor',\n",
              " '5w4axvkZhiRqoE0PP6teSo',\n",
              " '1uQiAP6sqz81780Rp1JOO8',\n",
              " '1JpwB9AGXsCLbjH0VkI1ML',\n",
              " '39ctmPVTtAMKeVJhMq5dS5',\n",
              " '6cIhdUHLeZ7itkkOg3dhNZ',\n",
              " '1H0Cytl1hBgCJr6w5wY5kg',\n",
              " '3Fm9LUt8JYtzJPtXq8MY8B',\n",
              " '5Y9O7CKSnUXlfoZwBC4vWH',\n",
              " '44hwbSezuaYOg8F4wGVaKs',\n",
              " '0uyJXxX8eVjuX48L2NZbe1',\n",
              " '5HzQDTbgRVfDgjxgwQ6lmt',\n",
              " '6fyuSTma3UAWRPWwj6FoRq',\n",
              " '4MbBggCsbNvIhz0RTTOV8B',\n",
              " '7zBGw9HjmWhcpscM2qSj9K',\n",
              " '42Q71LGgYI4eBdebWn5m6D',\n",
              " '6oszpeJlf5X3lzE7D3GBRV',\n",
              " '1Ohig73nH1UL91Vq5WQkRI',\n",
              " '1eEXWccqd1tLSvL9KBhN8o',\n",
              " '2SHnUyZq0zwmvRIl4WY77G',\n",
              " '6h5PAsRni4IRlxWr6uDPTP',\n",
              " '0ct6r3EGTcMLPtrXHDvVjc',\n",
              " '46lFttIf5hnUZMGvjK0Wxo',\n",
              " '4ywUcVneBL8TNHIq6oJBz2',\n",
              " '698ItKASDavgwZ3WjaWjtz',\n",
              " '4J7CKHCF3mdL4diUsmW8lq',\n",
              " '1oF75Qbv8UvOBm1imUAE51',\n",
              " '3ebXMykcMXOcLeJ9xZ17XH',\n",
              " '7BKLCZ1jbUBVqRi2FVlTVw',\n",
              " '1nas007nDbzLwDGwvMdz79',\n",
              " '6vWk151OrbHfKe4D6Z6tdV',\n",
              " '6uBhi9gBXWjanegOb2Phh0',\n",
              " '591nHHHzZl1NLt9PMKpinM',\n",
              " '4kWO6O1BUXcZmaxitpVUwp',\n",
              " '2dpaYNEQHiRxtZbfNsse99',\n",
              " '21RzyxY3EFaxVy6K4RqaU9',\n",
              " '7vGuf3Y35N4wmASOKLUVVU',\n",
              " '15DwFznkBJir7AK9PyMyRR',\n",
              " '6YUTL4dYpB9xZO5qExPf05',\n",
              " '3EmmCZoqpWOTY1g2GBwJoR',\n",
              " '02itaCXOdC54J0ISjqqFAp',\n",
              " '1i1fxkWeaMmKEB4T7zqbzK',\n",
              " '47zREtxQZ3cHHIZwUQnuuN',\n",
              " '5vQIaNoKsT4xkG1j2KFBFs',\n",
              " '0hNduWmlWmEmuwEFcYvRu1',\n",
              " '6OnYQKTc5fbSGbIpaH4KxL',\n",
              " '6bolfjXj78EIQRB48C6QTc',\n",
              " None,\n",
              " '04AYgtKFrpldRXe5y0LNGQ',\n",
              " '6jA8HL9i4QGzsj6fjoxp8Y',\n",
              " '3FDrI0FLKzrYQiWxPhqV2W',\n",
              " '1YDJ2f1JuKzYWZpRYiBYHu',\n",
              " '4pWawf1Rq4qHDv4Ktqjg2D',\n",
              " '3MEYFivt6bilQ9q9mFWZ4g',\n",
              " '4356Typ82hUiFAynbLYbPn',\n",
              " '4RXpgGM7A4Hg7cFBoH5KyF',\n",
              " '1MtUq6Wp1eQ8PC6BbPCj8P',\n",
              " '0g5EKLgdKvNlln7TNqBByK',\n",
              " '42nkVBjWYVhiijbof5zySm',\n",
              " '5QjJgPU8AJeickx34f7on6',\n",
              " '1gihuPhrLraKYrJMAEONyc',\n",
              " '6xTU6B6nFwKKTSZ9ySXS80',\n",
              " '23L5CiUhw2jV1OIMwthR3S',\n",
              " '1mvghSCONexEGEuSJVbnsT',\n",
              " '4h8VwCb1MTGoLKueQ1WgbD',\n",
              " '0AOEd0Zw22aTE8LzsS4EMg',\n",
              " '7CHi4DtfK4heMlQaudCuHK',\n",
              " '4ZJjf1jKxiHTcBnF7K6TLW',\n",
              " '4xVy3g7qRlZ0UPTDjDsMz5',\n",
              " '0IkKz2J93C94Ei4BvDop7P',\n",
              " '69zxj1EFDfAouZu9JDmQld',\n",
              " '5M9jOReAKGZ2AttVefFjTY',\n",
              " '4QVS8YCpK71R4FsxSMCjhP',\n",
              " '421leiR6jKlH5KDdwLYrOs',\n",
              " '7zsXy7vlHdItvUSH8EwQss',\n",
              " '6PUIzlqotEmPuBfjbwYWOB',\n",
              " '5naYe7rLMZcLfO1DKg48MK',\n",
              " '0DhkTGjEaIHaSxTfC14BFm',\n",
              " '0UMLejbZXf7YVgnfxURvVr',\n",
              " '5Iy2Jj87Ha0C0IBlNE1I4y',\n",
              " '6f1oG9hTx3NETgV6q4rkw5',\n",
              " '1eyrmeiDpdTkOmA839nPVQ',\n",
              " '49COPp81lGS9Hl9OwKlsKl',\n",
              " '2L6orAlH8tBhiFTumIfMyF',\n",
              " '6oNZ0WxqptE7V0qpjtyJ4a',\n",
              " '77TT8Xvx637TpzV8kKGkUw',\n",
              " '3ukWpmRHvpuDATCJkgLEkF',\n",
              " '5N4erncE7kuUccm7zEmwzk',\n",
              " '0LI4BP3JHQw0I0bFwGeiQ3',\n",
              " '3Q95VQL8yWRO8mkF6VoDzi',\n",
              " '0azC730Exh71aQlOt9Zj3y',\n",
              " '2GTi76fD1RgO34wDxRaeXB',\n",
              " '6WbADFqMvR8N5u0BvtsWQE',\n",
              " '2E5amaomMJkbkOe2TAkhD4',\n",
              " '2MSr5uzB5wgQD1ivWwhExW',\n",
              " '1pgyHZNpzYB4aRUdD0dQgI',\n",
              " '2ISSQPb9LHHiV6ng2NXosL',\n",
              " '5wldXGLEOoRXxMWJ8rIUWE',\n",
              " '5Gi8lLH3edcexP99srU1Nl',\n",
              " '5gIRPQWULwrvIt0F6pY7ph',\n",
              " '2hjqFVoMk6ssbfgtHEyhsY',\n",
              " '24LS4lQShWyixJ0ZrJXfJ5',\n",
              " '03EuhmMsEHVFI9ytainStU',\n",
              " '6RnkFd8Fqqgk1Uni8RgqCQ',\n",
              " '4crczEC1PpoD8TsDsmoWNI',\n",
              " '0PMNxtgeNSmPPp4aiA4T8F',\n",
              " '0lYBSQXN6rCTvUZvg9S0lU',\n",
              " '6gpcs5eMhJwax4mIfKDYQk',\n",
              " '71H8k9qe7DersxR6KyhUnI',\n",
              " '1sgDyuLooyvEML4oHspNza',\n",
              " '51Of5p3lKZeOg6itfs4og4',\n",
              " '7MmG8p0F9N3C4AXdK6o6Eb',\n",
              " '4ZkVOb0mNnm3MFY2LeyqHY',\n",
              " '3H7ihDc1dqLriiWXwsc2po',\n",
              " '457p7UH7hoHrbA2iI4PSCA',\n",
              " '2UM5jlU2iLXDEAtzIfa1m0',\n",
              " '60wwxj6Dd9NJlirf84wr2c',\n",
              " '1wfZdPy5FRWsdWaAEOG0Ml',\n",
              " '3KuUYvIPhTfjFV9KSfXru7']"
            ]
          },
          "metadata": {
            "tags": []
          },
          "execution_count": 13
        }
      ]
    },
    {
      "cell_type": "code",
      "metadata": {
        "id": "IbHYn9RmXlVp"
      },
      "source": [
        "\n",
        "from collections import OrderedDict\n",
        " \n",
        "\n",
        "ids = list(OrderedDict.fromkeys(ids))\n"
      ],
      "execution_count": null,
      "outputs": []
    },
    {
      "cell_type": "code",
      "metadata": {
        "id": "MimO9PoeXlVu",
        "colab": {
          "base_uri": "https://localhost:8080/"
        },
        "outputId": "df796bbd-620b-46b5-be17-afd3fad87b18"
      },
      "source": [
        "len(ids)\n"
      ],
      "execution_count": null,
      "outputs": [
        {
          "output_type": "execute_result",
          "data": {
            "text/plain": [
              "533"
            ]
          },
          "metadata": {
            "tags": []
          },
          "execution_count": 15
        }
      ]
    },
    {
      "cell_type": "markdown",
      "metadata": {
        "id": "awUOnNAanutn"
      },
      "source": [
        "# Create a function used to grab all track info from IDs\n",
        "Now that we have a list of every track ids we need, we will now write a function that will be used to grab the track information such as track name, album, release date, length, and popularity, along with the list of audio features that Spotify’s API has to offer from each track ids."
      ]
    },
    {
      "cell_type": "code",
      "metadata": {
        "id": "U3ubHGr9XlV1"
      },
      "source": [
        "id_list=[]\n",
        "def getTrackFeatures(id_sp):\n",
        "    meta = sp.track(id_sp)\n",
        "    features = sp.audio_features(id_sp)\n",
        "    id_s=id_sp\n",
        "\n",
        "    # meta\n",
        "    name = meta['name']\n",
        "\n",
        "    artists = meta['album']['artists'][0]['name']\n",
        "    release_date = meta['album']['release_date']\n",
        "    duration_ms = meta['duration_ms']\n",
        "    popularity = meta['popularity']\n",
        "    explicit=meta['explicit']\n",
        "    \n",
        "\n",
        "    # features\n",
        "    tempo=features[0]['tempo']\n",
        "    valence=features[0]['valence']\n",
        "    acousticness = features[0]['acousticness']\n",
        "    danceability = features[0]['danceability']\n",
        "    energy = features[0]['energy']\n",
        "    instrumentalness = features[0]['instrumentalness']\n",
        "    liveness = features[0]['liveness']\n",
        "    loudness = features[0]['loudness']\n",
        "    speechiness = features[0]['speechiness']\n",
        "    mode=features[0]['mode']\n",
        "    key=features[0]['key']\n",
        "    time_signature = features[0]['time_signature']\n",
        "\n",
        "    \n",
        "    track = [valence, acousticness,artists,danceability,duration_ms,energy,explicit,id_s,instrumentalness,loudness,key,liveness,mode,name,popularity,release_date,speechiness,tempo]\n",
        "    return track\n"
      ],
      "execution_count": null,
      "outputs": []
    },
    {
      "cell_type": "code",
      "metadata": {
        "id": "KgP5c8Y_XlV8"
      },
      "source": [
        "\n",
        "import datetime\n",
        "import requests# loop over track ids\n",
        "\n",
        "tracks = []\n",
        "for i in range(len(ids)):\n",
        "    time.sleep(.5)\n",
        "    if ids[i] is not None:\n",
        "        track = getTrackFeatures(ids[i])\n",
        "    \n",
        "    tracks.append(track)  \n",
        "\n",
        "            # create dataset\n",
        "df = pd.DataFrame(tracks, columns =  [\"valence\",\"acousticness\",\"artists\",\"danceability\",\"duration_ms\",\"energy\",\"explicit\",\"id\",\"instrumentalness\",\"loudness\",\"key\",\"liveness\",\"mode\",\"name\",\"popularity\",\"release_date\",\"speechiness\",\"tempo\"])\n",
        "df.to_csv(\"Spotify_update.csv\", sep = ',')\n",
        "\n",
        "    \n",
        "   "
      ],
      "execution_count": null,
      "outputs": []
    },
    {
      "cell_type": "markdown",
      "metadata": {
        "id": "3a4lCOAIodBT"
      },
      "source": [
        "##  Concatenating the extracted data withthe million data set from kaggle\n",
        "Link to the kaggle dataset -->[MILLION DATA SET](https://www.kaggle.com/yamaerenay/spotify-dataset-19212020-160k-tracks)"
      ]
    },
    {
      "cell_type": "code",
      "metadata": {
        "id": "cTjg9EPiXlV_"
      },
      "source": [
        "df\n"
      ],
      "execution_count": null,
      "outputs": []
    },
    {
      "cell_type": "code",
      "metadata": {
        "id": "qtrYmhDWXlWC"
      },
      "source": [
        "duplicate_rows=df[df.duplicated()]"
      ],
      "execution_count": null,
      "outputs": []
    },
    {
      "cell_type": "code",
      "metadata": {
        "id": "hc0e01hgXlWD"
      },
      "source": [
        "print(\"Number of duplicate rows :: \", duplicate_rows.shape)\n",
        "duplicate_rows"
      ],
      "execution_count": null,
      "outputs": []
    },
    {
      "cell_type": "code",
      "metadata": {
        "id": "9sqVZoeHXlWE"
      },
      "source": [
        "df= df.drop_duplicates() #drops duplicated rows\n",
        "duplicate_rows = df[df.duplicated()]\n",
        "print(\"Number of duplicate rows :: \", duplicate_rows.shape)"
      ],
      "execution_count": null,
      "outputs": []
    },
    {
      "cell_type": "code",
      "metadata": {
        "id": "58flXwjDXlWI"
      },
      "source": [
        "import datetime\n",
        "df['year'] = pd.DatetimeIndex(df['release_date']).year\n",
        "df"
      ],
      "execution_count": null,
      "outputs": []
    },
    {
      "cell_type": "code",
      "metadata": {
        "id": "lDR1ptahXlWK"
      },
      "source": [
        "year = df['year']\n",
        "df.drop(labels=['year'], axis=1, inplace = True)\n",
        "df.insert(2, 'year', year)\n"
      ],
      "execution_count": null,
      "outputs": []
    },
    {
      "cell_type": "code",
      "metadata": {
        "id": "DsBu_oyeXlWZ"
      },
      "source": [
        "duplicated_rows=df_final[df_final.duplicated()]"
      ],
      "execution_count": null,
      "outputs": []
    },
    {
      "cell_type": "code",
      "metadata": {
        "id": "iLBmS3DqE4jY"
      },
      "source": [
        "print(\"Number of duplicate rows :: \", duplicated_rows.shape)\n",
        "duplicated_rows"
      ],
      "execution_count": null,
      "outputs": []
    },
    {
      "cell_type": "code",
      "metadata": {
        "id": "Q2-fvbUSUj0s"
      },
      "source": [
        "df_final.reset_index()"
      ],
      "execution_count": null,
      "outputs": []
    },
    {
      "cell_type": "code",
      "metadata": {
        "id": "Y37rc3ssXlWb"
      },
      "source": [
        "df_final.to_csv(\"spotify_data_final.csv\", sep = ',')"
      ],
      "execution_count": null,
      "outputs": []
    },
    {
      "cell_type": "code",
      "metadata": {
        "id": "JNvQZgCGXlWd"
      },
      "source": [
        "df_final.info()"
      ],
      "execution_count": null,
      "outputs": []
    },
    {
      "cell_type": "code",
      "metadata": {
        "id": "KkDgvA1cXlWe"
      },
      "source": [
        "df_final"
      ],
      "execution_count": null,
      "outputs": []
    },
    {
      "cell_type": "code",
      "metadata": {
        "id": "FK_DDg74XlWg"
      },
      "source": [
        ""
      ],
      "execution_count": null,
      "outputs": []
    }
  ]
}