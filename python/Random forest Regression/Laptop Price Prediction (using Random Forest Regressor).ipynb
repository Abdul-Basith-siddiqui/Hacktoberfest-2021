{
 "cells": [
  {
   "cell_type": "code",
   "execution_count": 1,
   "id": "05de2659",
   "metadata": {},
   "outputs": [],
   "source": [
    "# Importing Library\n",
    "import pandas as pd\n",
    "from sklearn.ensemble import RandomForestRegressor\n",
    "from sklearn.preprocessing import StandardScaler\n",
    "from sklearn.model_selection import train_test_split\n",
    "from sklearn.metrics import accuracy_score"
   ]
  },
  {
   "cell_type": "code",
   "execution_count": 2,
   "id": "b918a7ce",
   "metadata": {},
   "outputs": [
    {
     "data": {
      "text/html": [
       "<div>\n",
       "<style scoped>\n",
       "    .dataframe tbody tr th:only-of-type {\n",
       "        vertical-align: middle;\n",
       "    }\n",
       "\n",
       "    .dataframe tbody tr th {\n",
       "        vertical-align: top;\n",
       "    }\n",
       "\n",
       "    .dataframe thead th {\n",
       "        text-align: right;\n",
       "    }\n",
       "</style>\n",
       "<table border=\"1\" class=\"dataframe\">\n",
       "  <thead>\n",
       "    <tr style=\"text-align: right;\">\n",
       "      <th></th>\n",
       "      <th>Manufacturer</th>\n",
       "      <th>IntelCore</th>\n",
       "      <th>IntelCoreGen</th>\n",
       "      <th>processing speed(GHz)</th>\n",
       "      <th>Ram</th>\n",
       "      <th>HDD</th>\n",
       "      <th>SSD</th>\n",
       "      <th>Graphics(gb)</th>\n",
       "      <th>ScreenSize(inch)</th>\n",
       "      <th>Price</th>\n",
       "    </tr>\n",
       "  </thead>\n",
       "  <tbody>\n",
       "    <tr>\n",
       "      <th>0</th>\n",
       "      <td>Dell</td>\n",
       "      <td>3</td>\n",
       "      <td>7</td>\n",
       "      <td>2.29</td>\n",
       "      <td>4</td>\n",
       "      <td>1000</td>\n",
       "      <td>0</td>\n",
       "      <td>0</td>\n",
       "      <td>15.6</td>\n",
       "      <td>39057</td>\n",
       "    </tr>\n",
       "    <tr>\n",
       "      <th>1</th>\n",
       "      <td>Dell</td>\n",
       "      <td>3</td>\n",
       "      <td>7</td>\n",
       "      <td>2.30</td>\n",
       "      <td>4</td>\n",
       "      <td>1000</td>\n",
       "      <td>0</td>\n",
       "      <td>0</td>\n",
       "      <td>15.6</td>\n",
       "      <td>45141</td>\n",
       "    </tr>\n",
       "    <tr>\n",
       "      <th>2</th>\n",
       "      <td>HP</td>\n",
       "      <td>3</td>\n",
       "      <td>7</td>\n",
       "      <td>2.30</td>\n",
       "      <td>8</td>\n",
       "      <td>256</td>\n",
       "      <td>256</td>\n",
       "      <td>0</td>\n",
       "      <td>14.0</td>\n",
       "      <td>35999</td>\n",
       "    </tr>\n",
       "    <tr>\n",
       "      <th>3</th>\n",
       "      <td>ASUS</td>\n",
       "      <td>3</td>\n",
       "      <td>7</td>\n",
       "      <td>2.30</td>\n",
       "      <td>4</td>\n",
       "      <td>1000</td>\n",
       "      <td>0</td>\n",
       "      <td>0</td>\n",
       "      <td>14.0</td>\n",
       "      <td>39990</td>\n",
       "    </tr>\n",
       "    <tr>\n",
       "      <th>4</th>\n",
       "      <td>HP</td>\n",
       "      <td>3</td>\n",
       "      <td>7</td>\n",
       "      <td>2.40</td>\n",
       "      <td>4</td>\n",
       "      <td>1000</td>\n",
       "      <td>0</td>\n",
       "      <td>0</td>\n",
       "      <td>15.6</td>\n",
       "      <td>36263</td>\n",
       "    </tr>\n",
       "  </tbody>\n",
       "</table>\n",
       "</div>"
      ],
      "text/plain": [
       "  Manufacturer  IntelCore  IntelCoreGen  processing speed(GHz)  Ram   HDD  \\\n",
       "0         Dell          3             7                   2.29    4  1000   \n",
       "1         Dell          3             7                   2.30    4  1000   \n",
       "2           HP          3             7                   2.30    8   256   \n",
       "3         ASUS          3             7                   2.30    4  1000   \n",
       "4           HP          3             7                   2.40    4  1000   \n",
       "\n",
       "   SSD  Graphics(gb)  ScreenSize(inch)  Price  \n",
       "0    0             0              15.6  39057  \n",
       "1    0             0              15.6  45141  \n",
       "2  256             0              14.0  35999  \n",
       "3    0             0              14.0  39990  \n",
       "4    0             0              15.6  36263  "
      ]
     },
     "execution_count": 2,
     "metadata": {},
     "output_type": "execute_result"
    }
   ],
   "source": [
    "# Reading csv file\n",
    "df=pd.read_csv(\"C:\\\\Users\\\\ankit\\\\Documents\\\\Project Files\\\\laptop price data.csv\")\n",
    "df.head()"
   ]
  },
  {
   "cell_type": "code",
   "execution_count": 3,
   "id": "b1cfbbdc",
   "metadata": {},
   "outputs": [
    {
     "data": {
      "text/plain": [
       "Manufacturer             0\n",
       "IntelCore                0\n",
       "IntelCoreGen             0\n",
       "processing speed(GHz)    0\n",
       "Ram                      0\n",
       "HDD                      0\n",
       "SSD                      0\n",
       "Graphics(gb)             0\n",
       "ScreenSize(inch)         0\n",
       "Price                    0\n",
       "dtype: int64"
      ]
     },
     "execution_count": 3,
     "metadata": {},
     "output_type": "execute_result"
    }
   ],
   "source": [
    "df.isnull().sum()"
   ]
  },
  {
   "cell_type": "code",
   "execution_count": 4,
   "id": "e9eaa87e",
   "metadata": {},
   "outputs": [
    {
     "data": {
      "text/plain": [
       "HP        11\n",
       "Lenovo    10\n",
       "ASUS       5\n",
       "Dell       3\n",
       "Name: Manufacturer, dtype: int64"
      ]
     },
     "execution_count": 4,
     "metadata": {},
     "output_type": "execute_result"
    }
   ],
   "source": [
    "df[\"Manufacturer\"].value_counts()"
   ]
  },
  {
   "cell_type": "code",
   "execution_count": 5,
   "id": "d9e2389e",
   "metadata": {},
   "outputs": [],
   "source": [
    "df[\"Manufacturer\"]=df[\"Manufacturer\"].replace(to_replace={\"HP\":0,\"Lenovo\":1,\"ASUS\":2,\"Dell\":3})"
   ]
  },
  {
   "cell_type": "code",
   "execution_count": 6,
   "id": "405409b7",
   "metadata": {},
   "outputs": [
    {
     "data": {
      "text/html": [
       "<div>\n",
       "<style scoped>\n",
       "    .dataframe tbody tr th:only-of-type {\n",
       "        vertical-align: middle;\n",
       "    }\n",
       "\n",
       "    .dataframe tbody tr th {\n",
       "        vertical-align: top;\n",
       "    }\n",
       "\n",
       "    .dataframe thead th {\n",
       "        text-align: right;\n",
       "    }\n",
       "</style>\n",
       "<table border=\"1\" class=\"dataframe\">\n",
       "  <thead>\n",
       "    <tr style=\"text-align: right;\">\n",
       "      <th></th>\n",
       "      <th>Manufacturer</th>\n",
       "      <th>IntelCore</th>\n",
       "      <th>IntelCoreGen</th>\n",
       "      <th>processing speed(GHz)</th>\n",
       "      <th>Ram</th>\n",
       "      <th>HDD</th>\n",
       "      <th>SSD</th>\n",
       "      <th>Graphics(gb)</th>\n",
       "      <th>ScreenSize(inch)</th>\n",
       "      <th>Price</th>\n",
       "    </tr>\n",
       "  </thead>\n",
       "  <tbody>\n",
       "    <tr>\n",
       "      <th>0</th>\n",
       "      <td>3</td>\n",
       "      <td>3</td>\n",
       "      <td>7</td>\n",
       "      <td>2.29</td>\n",
       "      <td>4</td>\n",
       "      <td>1000</td>\n",
       "      <td>0</td>\n",
       "      <td>0</td>\n",
       "      <td>15.6</td>\n",
       "      <td>39057</td>\n",
       "    </tr>\n",
       "    <tr>\n",
       "      <th>1</th>\n",
       "      <td>3</td>\n",
       "      <td>3</td>\n",
       "      <td>7</td>\n",
       "      <td>2.30</td>\n",
       "      <td>4</td>\n",
       "      <td>1000</td>\n",
       "      <td>0</td>\n",
       "      <td>0</td>\n",
       "      <td>15.6</td>\n",
       "      <td>45141</td>\n",
       "    </tr>\n",
       "    <tr>\n",
       "      <th>2</th>\n",
       "      <td>0</td>\n",
       "      <td>3</td>\n",
       "      <td>7</td>\n",
       "      <td>2.30</td>\n",
       "      <td>8</td>\n",
       "      <td>256</td>\n",
       "      <td>256</td>\n",
       "      <td>0</td>\n",
       "      <td>14.0</td>\n",
       "      <td>35999</td>\n",
       "    </tr>\n",
       "    <tr>\n",
       "      <th>3</th>\n",
       "      <td>2</td>\n",
       "      <td>3</td>\n",
       "      <td>7</td>\n",
       "      <td>2.30</td>\n",
       "      <td>4</td>\n",
       "      <td>1000</td>\n",
       "      <td>0</td>\n",
       "      <td>0</td>\n",
       "      <td>14.0</td>\n",
       "      <td>39990</td>\n",
       "    </tr>\n",
       "    <tr>\n",
       "      <th>4</th>\n",
       "      <td>0</td>\n",
       "      <td>3</td>\n",
       "      <td>7</td>\n",
       "      <td>2.40</td>\n",
       "      <td>4</td>\n",
       "      <td>1000</td>\n",
       "      <td>0</td>\n",
       "      <td>0</td>\n",
       "      <td>15.6</td>\n",
       "      <td>36263</td>\n",
       "    </tr>\n",
       "  </tbody>\n",
       "</table>\n",
       "</div>"
      ],
      "text/plain": [
       "   Manufacturer  IntelCore  IntelCoreGen  processing speed(GHz)  Ram   HDD  \\\n",
       "0             3          3             7                   2.29    4  1000   \n",
       "1             3          3             7                   2.30    4  1000   \n",
       "2             0          3             7                   2.30    8   256   \n",
       "3             2          3             7                   2.30    4  1000   \n",
       "4             0          3             7                   2.40    4  1000   \n",
       "\n",
       "   SSD  Graphics(gb)  ScreenSize(inch)  Price  \n",
       "0    0             0              15.6  39057  \n",
       "1    0             0              15.6  45141  \n",
       "2  256             0              14.0  35999  \n",
       "3    0             0              14.0  39990  \n",
       "4    0             0              15.6  36263  "
      ]
     },
     "execution_count": 6,
     "metadata": {},
     "output_type": "execute_result"
    }
   ],
   "source": [
    "df.head()"
   ]
  },
  {
   "cell_type": "code",
   "execution_count": 7,
   "id": "8ba4f8a5",
   "metadata": {},
   "outputs": [],
   "source": [
    "X=df.drop(\"Price\",axis=1)\n",
    "y=df[\"Price\"]"
   ]
  },
  {
   "cell_type": "code",
   "execution_count": 8,
   "id": "cd8e9288",
   "metadata": {},
   "outputs": [
    {
     "data": {
      "text/plain": [
       "array([[ 2.03540098, -0.55999004, -0.22444306, -0.06708383, -0.6172134 ,\n",
       "         0.33204155, -0.71788534, -0.68159582,  0.36563104],\n",
       "       [ 2.03540098, -0.55999004, -0.22444306, -0.0421424 , -0.6172134 ,\n",
       "         0.33204155, -0.71788534, -0.68159582,  0.36563104],\n",
       "       [-1.01770049, -0.55999004, -0.22444306, -0.0421424 ,  0.12858612,\n",
       "        -3.80429125,  0.66426735, -0.68159582, -1.7818728 ],\n",
       "       [ 1.01770049, -0.55999004, -0.22444306, -0.0421424 , -0.6172134 ,\n",
       "         0.33204155, -0.71788534, -0.68159582, -1.7818728 ],\n",
       "       [-1.01770049, -0.55999004, -0.22444306,  0.20727182, -0.6172134 ,\n",
       "         0.33204155, -0.71788534, -0.68159582,  0.36563104],\n",
       "       [-1.01770049, -1.10131375, -1.99958364, -0.0421424 , -0.6172134 ,\n",
       "        -2.447752  ,  0.66426735, -0.68159582, -1.7818728 ],\n",
       "       [ 0.        , -0.55999004, -0.22444306, -0.0421424 , -0.6172134 ,\n",
       "         0.33204155, -0.71788534, -0.68159582,  0.36563104],\n",
       "       [-1.01770049,  0.52265738,  0.36727046, -1.78804197,  0.12858612,\n",
       "         0.33204155, -0.71788534, -0.68159582, -1.7818728 ],\n",
       "       [ 0.        , -1.64263746, -2.59129716, -1.28921352, -0.6172134 ,\n",
       "         0.33204155, -0.71788534, -0.68159582,  0.36563104],\n",
       "       [ 2.03540098, -0.55999004,  0.36727046,  3.94848517, -0.6172134 ,\n",
       "         0.33204155, -0.71788534, -0.68159582, -1.7818728 ],\n",
       "       [-1.01770049, -0.55999004, -0.22444306, -0.0421424 ,  0.12858612,\n",
       "         0.33204155, -0.71788534, -0.68159582,  0.36563104],\n",
       "       [ 0.        , -1.10131375, -1.40787011, -0.0421424 , -0.6172134 ,\n",
       "         0.33204155, -0.71788534, -0.68159582,  0.36563104],\n",
       "       [-1.01770049, -0.55999004, -0.22444306, -0.0421424 , -0.6172134 ,\n",
       "         0.33204155, -0.71788534, -0.68159582, -1.7818728 ],\n",
       "       [ 0.        , -0.55999004,  0.36727046, -0.54097085, -0.6172134 ,\n",
       "         0.33204155, -0.71788534, -0.68159582,  0.36563104],\n",
       "       [ 0.        , -0.55999004,  0.36727046, -0.54097085,  0.12858612,\n",
       "         0.33204155, -0.71788534, -0.68159582,  0.36563104],\n",
       "       [-1.01770049, -0.55999004, -0.22444306, -0.0421424 ,  0.12858612,\n",
       "         0.33204155, -0.71788534, -0.68159582,  0.36563104],\n",
       "       [ 1.01770049,  0.52265738,  0.36727046, -1.78804197,  0.12858612,\n",
       "        -2.38103695,  2.04642004, -0.68159582,  0.36563104],\n",
       "       [ 0.        , -1.64263746, -2.59129716, -1.28921352, -0.6172134 ,\n",
       "         0.33204155, -0.71788534, -0.68159582,  0.36563104],\n",
       "       [-1.01770049, -0.55999004, -0.22444306,  0.20727182, -0.6172134 ,\n",
       "         0.33204155, -0.71788534, -0.68159582,  0.36563104],\n",
       "       [-1.01770049,  0.52265738,  0.95898399,  0.20727182,  0.12858612,\n",
       "         0.33204155,  0.66426735,  1.15712779,  0.36563104],\n",
       "       [ 1.01770049,  0.52265738,  0.95898399, -0.54097085,  0.12858612,\n",
       "         0.33204155,  2.04642004,  1.15712779,  0.36563104],\n",
       "       [-1.01770049,  0.52265738,  0.95898399,  0.20727182,  0.12858612,\n",
       "         0.33204155, -0.71788534,  1.15712779,  0.36563104],\n",
       "       [ 1.01770049,  1.60530479,  0.36727046, -0.29155663,  0.12858612,\n",
       "         0.33204155, -0.6315008 ,  1.15712779,  0.36563104],\n",
       "       [ 0.        ,  1.60530479,  0.95898399,  0.70610027,  0.12858612,\n",
       "         0.33204155,  0.66426735,  1.15712779,  0.36563104],\n",
       "       [ 0.        ,  1.60530479,  0.95898399,  0.70610027,  1.62018517,\n",
       "         0.33204155,  0.66426735,  1.15712779,  0.36563104],\n",
       "       [ 0.        ,  1.60530479,  0.95898399,  0.70610027,  0.12858612,\n",
       "         0.33204155,  2.04642004,  1.15712779,  0.36563104],\n",
       "       [ 0.        ,  0.52265738,  0.95898399,  0.20727182,  0.12858612,\n",
       "         0.33204155,  0.66426735,  0.69744689,  0.36563104],\n",
       "       [ 1.01770049,  1.60530479,  0.95898399,  0.70610027,  4.60338327,\n",
       "         0.33204155,  2.04642004,  2.9958514 ,  2.64735388],\n",
       "       [-1.01770049,  1.60530479,  0.95898399,  0.70610027,  0.12858612,\n",
       "         0.33204155,  0.66426735,  1.15712779,  0.36563104]])"
      ]
     },
     "execution_count": 8,
     "metadata": {},
     "output_type": "execute_result"
    }
   ],
   "source": [
    "# Standardise data\n",
    "scaler=StandardScaler()\n",
    "scaler.fit_transform(X)\n"
   ]
  },
  {
   "cell_type": "code",
   "execution_count": 9,
   "id": "5deaf778",
   "metadata": {},
   "outputs": [],
   "source": [
    "# train test split\n",
    "X_train,X_test,y_train,y_test=train_test_split(X,y,test_size=0.2,random_state=40)"
   ]
  },
  {
   "cell_type": "code",
   "execution_count": 10,
   "id": "60ae6afe",
   "metadata": {},
   "outputs": [
    {
     "name": "stdout",
     "output_type": "stream",
     "text": [
      "[54617.3875 83023.39   89198.56   45823.05   43633.2275 40108.23  ]\n"
     ]
    }
   ],
   "source": [
    "# Random Forest Regressor\n",
    "rfc=RandomForestRegressor(random_state=1)\n",
    "rfc.fit(X_train,y_train)\n",
    "predict_rfc=rfc.predict(X_test)\n",
    "print(predict_rfc)"
   ]
  },
  {
   "cell_type": "code",
   "execution_count": 11,
   "id": "40097b45",
   "metadata": {},
   "outputs": [
    {
     "data": {
      "text/plain": [
       "0.9433690863721839"
      ]
     },
     "execution_count": 11,
     "metadata": {},
     "output_type": "execute_result"
    }
   ],
   "source": [
    "rfc.score(X_train,y_train)"
   ]
  },
  {
   "cell_type": "code",
   "execution_count": 13,
   "id": "a95d3dd6",
   "metadata": {},
   "outputs": [
    {
     "data": {
      "text/html": [
       "<div>\n",
       "<style scoped>\n",
       "    .dataframe tbody tr th:only-of-type {\n",
       "        vertical-align: middle;\n",
       "    }\n",
       "\n",
       "    .dataframe tbody tr th {\n",
       "        vertical-align: top;\n",
       "    }\n",
       "\n",
       "    .dataframe thead th {\n",
       "        text-align: right;\n",
       "    }\n",
       "</style>\n",
       "<table border=\"1\" class=\"dataframe\">\n",
       "  <thead>\n",
       "    <tr style=\"text-align: right;\">\n",
       "      <th></th>\n",
       "      <th>Price</th>\n",
       "      <th>Prediction</th>\n",
       "    </tr>\n",
       "  </thead>\n",
       "  <tbody>\n",
       "    <tr>\n",
       "      <th>2</th>\n",
       "      <td>35999</td>\n",
       "      <td>54617.3875</td>\n",
       "    </tr>\n",
       "    <tr>\n",
       "      <th>16</th>\n",
       "      <td>56990</td>\n",
       "      <td>83023.3900</td>\n",
       "    </tr>\n",
       "    <tr>\n",
       "      <th>19</th>\n",
       "      <td>74931</td>\n",
       "      <td>89198.5600</td>\n",
       "    </tr>\n",
       "    <tr>\n",
       "      <th>14</th>\n",
       "      <td>45390</td>\n",
       "      <td>45823.0500</td>\n",
       "    </tr>\n",
       "    <tr>\n",
       "      <th>15</th>\n",
       "      <td>40338</td>\n",
       "      <td>43633.2275</td>\n",
       "    </tr>\n",
       "    <tr>\n",
       "      <th>13</th>\n",
       "      <td>42590</td>\n",
       "      <td>40108.2300</td>\n",
       "    </tr>\n",
       "  </tbody>\n",
       "</table>\n",
       "</div>"
      ],
      "text/plain": [
       "    Price  Prediction\n",
       "2   35999  54617.3875\n",
       "16  56990  83023.3900\n",
       "19  74931  89198.5600\n",
       "14  45390  45823.0500\n",
       "15  40338  43633.2275\n",
       "13  42590  40108.2300"
      ]
     },
     "execution_count": 13,
     "metadata": {},
     "output_type": "execute_result"
    }
   ],
   "source": [
    "# Comparison b/w predicted and actual data\n",
    "pro=pd.DataFrame({\"Price\":y_test,\"Prediction\":predict_rfc})\n",
    "pro"
   ]
  },
  {
   "cell_type": "code",
   "execution_count": null,
   "id": "45dbc7e4",
   "metadata": {},
   "outputs": [],
   "source": []
  },
  {
   "cell_type": "code",
   "execution_count": null,
   "id": "9d87798d",
   "metadata": {},
   "outputs": [],
   "source": []
  }
 ],
 "metadata": {
  "kernelspec": {
   "display_name": "Python 3",
   "language": "python",
   "name": "python3"
  },
  "language_info": {
   "codemirror_mode": {
    "name": "ipython",
    "version": 3
   },
   "file_extension": ".py",
   "mimetype": "text/x-python",
   "name": "python",
   "nbconvert_exporter": "python",
   "pygments_lexer": "ipython3",
   "version": "3.8.8"
  }
 },
 "nbformat": 4,
 "nbformat_minor": 5
}
