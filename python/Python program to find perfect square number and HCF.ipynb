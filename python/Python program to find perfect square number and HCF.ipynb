{
 "cells": [
  {
   "cell_type": "markdown",
   "metadata": {},
   "source": [
    "# Python Program to Find Perfect Number From Given Range\n",
    "My basic concept is, here I give numbers in the range 1 to 101 to find the square numbers between 1 to 100. We already know that in a range lower point is inclusive and the upper point is exclusive. So, take range  from 1 to 101. Made an empty list to store the square numbers. Apply for loop. Define root which is iteration variable's power one upon two. Round the int_root. Use of round() function is it return a floating-point number that is a rounded with the specified number of decimals. Apply condition if int_root's power 2 is equal to n then that an iteration variable is a perfect number and it goes to the `root_numbers` list. Similar process is applied for all of the iteration variables until the last iteration variable is 100. "
   ]
  },
  {
   "cell_type": "code",
   "execution_count": 1,
   "metadata": {
    "ExecuteTime": {
     "end_time": "2021-10-05T06:05:13.832665Z",
     "start_time": "2021-10-05T06:05:13.820616Z"
    }
   },
   "outputs": [
    {
     "name": "stdout",
     "output_type": "stream",
     "text": [
      "1\n",
      "4\n",
      "9\n",
      "16\n",
      "25\n",
      "36\n",
      "49\n",
      "64\n",
      "81\n",
      "100\n"
     ]
    }
   ],
   "source": [
    "numbers = list(range(1,101))\n",
    "root_numbers = []\n",
    "for n in numbers:\n",
    "    root = (n)**0.5\n",
    "    int_root = round(root)\n",
    "    if int_root**2 == n:\n",
    "        root_numbers.append(n)\n",
    "        print(n)"
   ]
  },
  {
   "cell_type": "markdown",
   "metadata": {},
   "source": [
    "# Python Program to Find HCF\n",
    "Here I tried to write a function that has the name `HCF` which can take n1 and n2 as a testing number. Initialize variable m1 as the minimum of two numbers and m2 as the maximum of two numbers n1 and n2 and CF store the common factor as a list. We apply for a loop from range 1 to a minimum of number + 1 because the range includes starting number but excludes the end number. Here I take range up to minimum among them because the greatest common factor would be upto only minimum number. We checked if our iteration variable lies in the range that divides both maximum number and minimum. Among these iteration variables, the greatest iteration variable which divided both m1 and m2 is HCF. And return the desired output."
   ]
  },
  {
   "cell_type": "code",
   "execution_count": 2,
   "metadata": {
    "ExecuteTime": {
     "end_time": "2021-10-05T06:16:23.680534Z",
     "start_time": "2021-10-05T06:16:23.669831Z"
    }
   },
   "outputs": [
    {
     "name": "stdout",
     "output_type": "stream",
     "text": [
      "Common factor of 4 and 8 are [1, 2, 4].\n",
      "HCF of 4 and 8 is 4.\n"
     ]
    }
   ],
   "source": [
    "def HCF(n1,n2):\n",
    "    m1 = min(n1,n2)\n",
    "    m2 = max(n1,n2)\n",
    "    CF = []\n",
    "    for i in range(1,m1+1):\n",
    "        if m1 % i == 0 and m2 % i == 0:\n",
    "            CF.append(i)\n",
    "    print(f\"Common factor of {n1} and {n2} are {CF}.\")\n",
    "    print(f\"HCF of {n1} and {n2} is {max(CF)}.\")\n",
    "HCF(4,8)"
   ]
  },
  {
   "cell_type": "code",
   "execution_count": null,
   "metadata": {},
   "outputs": [],
   "source": []
  }
 ],
 "metadata": {
  "kernelspec": {
   "display_name": "Python 3",
   "language": "python",
   "name": "python3"
  },
  "language_info": {
   "codemirror_mode": {
    "name": "ipython",
    "version": 3
   },
   "file_extension": ".py",
   "mimetype": "text/x-python",
   "name": "python",
   "nbconvert_exporter": "python",
   "pygments_lexer": "ipython3",
   "version": "3.8.5"
  },
  "latex_envs": {
   "LaTeX_envs_menu_present": true,
   "autoclose": false,
   "autocomplete": true,
   "bibliofile": "biblio.bib",
   "cite_by": "apalike",
   "current_citInitial": 1,
   "eqLabelWithNumbers": true,
   "eqNumInitial": 1,
   "hotkeys": {
    "equation": "Ctrl-E",
    "itemize": "Ctrl-I"
   },
   "labels_anchors": false,
   "latex_user_defs": false,
   "report_style_numbering": false,
   "user_envs_cfg": false
  },
  "toc": {
   "base_numbering": 1,
   "nav_menu": {},
   "number_sections": true,
   "sideBar": true,
   "skip_h1_title": false,
   "title_cell": "Table of Contents",
   "title_sidebar": "Contents",
   "toc_cell": false,
   "toc_position": {},
   "toc_section_display": true,
   "toc_window_display": false
  }
 },
 "nbformat": 4,
 "nbformat_minor": 4
}
